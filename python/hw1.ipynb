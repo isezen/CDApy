{
 "cells": [
  {
   "cell_type": "markdown",
   "metadata": {},
   "source": [
    "Main package to load: numpy library. This package helps you get an R like environment."
   ]
  },
  {
   "cell_type": "code",
   "execution_count": null,
   "metadata": {
    "collapsed": true
   },
   "outputs": [],
   "source": [
    "import numpy as np # import numpy library"
   ]
  },
  {
   "cell_type": "code",
   "execution_count": 42,
   "metadata": {
    "collapsed": false
   },
   "outputs": [
    {
     "data": {
      "text/plain": [
       "False"
      ]
     },
     "execution_count": 42,
     "metadata": {},
     "output_type": "execute_result"
    }
   ],
   "source": [
    "# Answer 1\n",
    "# create normally distributed random numbers\n",
    "x = np.random.normal(2, 3, 100) # mean, sd, count\n",
    "n = len(x)\n",
    "\n",
    "mean = np.sum(x)/n # method 1\n",
    "mean2 = sum(x.tolist())/n # method 2\n",
    "\n",
    "var = np.sum(((x - mean)**2)/n) # Variance\n",
    "sd = np.sqrt(var)\n",
    "\n",
    "# compare results\n",
    "np.mean(x) == mean # is this always TRUE?\n",
    "np.std(x) == sd # is this always TRUE?\n",
    "np.var(x) == var # is this always TRUE?"
   ]
  },
  {
   "cell_type": "code",
   "execution_count": 44,
   "metadata": {
    "collapsed": true
   },
   "outputs": [],
   "source": [
    "import matplotlib.pyplot as plt # for plotting\n",
    "import matplotlib.mlab as mlab"
   ]
  },
  {
   "cell_type": "code",
   "execution_count": 48,
   "metadata": {
    "collapsed": false
   },
   "outputs": [
    {
     "data": {
      "image/png": "[encoded data removed]",
      "text/plain": [
       "<matplotlib.figure.Figure at 0x110f645d0>"
      ]
     },
     "metadata": {},
     "output_type": "display_data"
    }
   ],
   "source": [
    "# -----------------------------------------------------------------------------\n",
    "# Answer 2\n",
    "\n",
    "x = np.arange(2, 5000, 3)\n",
    "x = np.remainder(x, 13)\n",
    "mu = np.median(x)\n",
    "sigma = np.var(x)\n",
    "\n",
    "n, bins, patches = plt.hist(x, facecolor='green', alpha=0.75)\n",
    "y = mlab.normpdf( bins, mu, sigma)\n",
    "l = plt.plot(bins, y, 'r--', linewidth=1)\n",
    "plt.title(r'$\\mathrm{Histogram\\ of\\ x:}\\ \\mu=6,\\ \\sigma=14$')\n",
    "plt.grid(True)\n",
    "plt.show()"
   ]
  },
  {
   "cell_type": "code",
   "execution_count": 45,
   "metadata": {
    "collapsed": false
   },
   "outputs": [
    {
     "data": {
      "image/png": "[encoded data removed]",
      "text/plain": [
       "<matplotlib.figure.Figure at 0x110f51910>"
      ]
     },
     "metadata": {},
     "output_type": "display_data"
    },
    {
     "data": {
      "image/png": "[encoded data removed]",
      "text/plain": [
       "<matplotlib.figure.Figure at 0x111072f50>"
      ]
     },
     "metadata": {},
     "output_type": "display_data"
    }
   ],
   "source": [
    "# -----------------------------------------------------------------------------\n",
    "# Answer #3\n",
    "from scipy import stats\n",
    "\n",
    "x = np.arange(4, 250)\n",
    "h = (np.log(x) - 1)/np.sqrt(x)\n",
    "g = np.exp(np.sqrt(h))\n",
    "f = np.sin(g) ** np.cos(g)\n",
    "\n",
    "sigma = np.var(f)\n",
    "sd = np.std(f)\n",
    "stats.describe(f) # equivalent of summary function in R\n",
    "\n",
    "# plot histogram\n",
    "plt.hist(f, facecolor = 'red', alpha = 0.75)\n",
    "plt.axvline(x=np.median(f))\n",
    "plt.show()\n",
    "\n",
    "plt.plot(x, f) # plot f versus x.\n",
    "plt.xlabel('x-values')\n",
    "plt.ylabel('f(x)')\n",
    "plt.show()"
   ]
  },
  {
   "cell_type": "code",
   "execution_count": 49,
   "metadata": {
    "collapsed": false
   },
   "outputs": [
    {
     "name": "stdout",
     "output_type": "stream",
     "text": [
      "84.7219430486\n",
      "84.7219430486\n"
     ]
    }
   ],
   "source": [
    "# -----------------------------------------------------------------------------\n",
    "# Answer #4\n",
    "\n",
    "y = [87, 23]\n",
    "x = [155, 2543]\n",
    "x1 = 240\n",
    "# what is y1?\n",
    "\n",
    "# formula of a line between 2 points\n",
    "# y = mx + b\n",
    "\n",
    "# slope of the line\n",
    "m = (y[1] - y[0])/float(x[1] - x[0]) # why we did floating division here?\n",
    "# intercept\n",
    "b = y[0] - m * x[0]\n",
    "# or\n",
    "b = (x[1] * y[0] - x[0] * y[1])/float(x[1] - x[0])\n",
    "y1 = m * x1 + b\n",
    "print y1\n",
    "\n",
    "\n",
    "# by scipy -> linear interpolation\n",
    "from scipy import interpolate\n",
    "f = interpolate.interp1d(x, y)\n",
    "callable(f) # if f is a function, returns True\n",
    "print f(x1) # use f function to calculate y value of x1"
   ]
  },
  {
   "cell_type": "code",
   "execution_count": 50,
   "metadata": {
    "collapsed": false
   },
   "outputs": [
    {
     "name": "stdout",
     "output_type": "stream",
     "text": [
      "yknnmqoogp\n",
      "willkommen\n"
     ]
    }
   ],
   "source": [
    "# -----------------------------------------------------------------------------\n",
    "# Answer #5\n",
    "\n",
    "import string as s\n",
    "letters = list(s.ascii_lowercase)\n",
    "\n",
    "shift = 2\n",
    "crypted_text = list('yknnmqoogp')\n",
    "\n",
    "# crypt\n",
    "index = range((shift), len(letters)) + range(0, shift)\n",
    "chipper = [letters[i] for i in index]\n",
    "d = dict(zip(letters, chipper))\n",
    "crypted_text = [d[i] for i in list('willkommen')]\n",
    "print ''.join(crypted_text)\n",
    "\n",
    "# decrypt\n",
    "index = range((shift), len(letters)) + range(0, shift)\n",
    "chipper = [letters[i] for i in index]\n",
    "d = dict(zip(chipper, letters))\n",
    "decrypted_text = [d[i] for i in crypted_text]\n",
    "print ''.join(decrypted_text)"
   ]
  },
  {
   "cell_type": "code",
   "execution_count": 52,
   "metadata": {
    "collapsed": false
   },
   "outputs": [
    {
     "name": "stderr",
     "output_type": "stream",
     "text": [
      "/opt/local/Library/Frameworks/Python.framework/Versions/2.7/lib/python2.7/site-packages/ipykernel/__main__.py:6: DeprecationWarning: object of type <type 'float'> cannot be safely interpreted as an integer.\n"
     ]
    },
    {
     "name": "stdout",
     "output_type": "stream",
     "text": [
      "9.09298059071e-09\n"
     ]
    },
    {
     "data": {
      "text/plain": [
       "(1.4161468365471424, 1.5722388241847156e-14)"
      ]
     },
     "execution_count": 52,
     "metadata": {},
     "output_type": "execute_result"
    }
   ],
   "source": [
    "# -----------------------------------------------------------------------------\n",
    "# Answer #6\n",
    "import math as m\n",
    "\n",
    "a = 0; b = 2; n = 1e8\n",
    "seq = np.linspace(a, b, n + 1)\n",
    "intg = ((b - a)/float(n)) * np.sum(np.sin(seq))\n",
    "dif = intg - (m.cos(a) - m.cos(b))\n",
    "print dif\n",
    "\n",
    "# OR\n",
    "from scipy.integrate import quad\n",
    "quad(m.sin, 0, 2) # second term is absolute error"
   ]
  },
  {
   "cell_type": "code",
   "execution_count": null,
   "metadata": {
    "collapsed": true
   },
   "outputs": [],
   "source": []
  }
 ],
 "metadata": {
  "kernelspec": {
   "display_name": "Python 2",
   "language": "python",
   "name": "python2"
  },
  "language_info": {
   "codemirror_mode": {
    "name": "ipython",
    "version": 2
   },
   "file_extension": ".py",
   "mimetype": "text/x-python",
   "name": "python",
   "nbconvert_exporter": "python",
   "pygments_lexer": "ipython2",
   "version": "2.7.13"
  }
 },
 "nbformat": 4,
 "nbformat_minor": 2
}
